{
 "cells": [
  {
   "cell_type": "markdown",
   "metadata": {},
   "source": [
    "# Collaboration and Competition\n",
    "\n",
    "---\n",
    "\n",
    "You are welcome to use this coding environment to train your agent for the project.  Follow the instructions below to get started!\n",
    "\n",
    "### 1. Start the Environment\n",
    "\n",
    "Run the next code cell to install a few packages.  This line will take a few minutes to run!"
   ]
  },
  {
   "cell_type": "code",
   "execution_count": 1,
   "metadata": {},
   "outputs": [
    {
     "name": "stdout",
     "output_type": "stream",
     "text": [
      "\u001b[31mtensorflow 1.7.1 has requirement numpy>=1.13.3, but you'll have numpy 1.12.1 which is incompatible.\u001b[0m\r\n",
      "\u001b[31mipython 6.5.0 has requirement prompt-toolkit<2.0.0,>=1.0.15, but you'll have prompt-toolkit 3.0.5 which is incompatible.\u001b[0m\r\n"
     ]
    }
   ],
   "source": [
    "!pip -q install ./python"
   ]
  },
  {
   "cell_type": "markdown",
   "metadata": {},
   "source": [
    "The environment is already saved in the Workspace and can be accessed at the file path provided below. "
   ]
  },
  {
   "cell_type": "code",
   "execution_count": 1,
   "metadata": {},
   "outputs": [
    {
     "name": "stderr",
     "output_type": "stream",
     "text": [
      "INFO:unityagents:\n",
      "'Academy' started successfully!\n",
      "Unity Academy name: Academy\n",
      "        Number of Brains: 1\n",
      "        Number of External Brains : 1\n",
      "        Lesson number : 0\n",
      "        Reset Parameters :\n",
      "\t\t\n",
      "Unity brain name: TennisBrain\n",
      "        Number of Visual Observations (per agent): 0\n",
      "        Vector Observation space type: continuous\n",
      "        Vector Observation space size (per agent): 8\n",
      "        Number of stacked Vector Observation: 3\n",
      "        Vector Action space type: continuous\n",
      "        Vector Action space size (per agent): 2\n",
      "        Vector Action descriptions: , \n"
     ]
    }
   ],
   "source": [
    "from unityagents import UnityEnvironment\n",
    "import numpy as np\n",
    "\n",
    "#env = UnityEnvironment(file_name=\"/data/Tennis_Linux_NoVis/Tennis\")\n",
    "env = UnityEnvironment(file_name=\"Tennis.app\")"
   ]
  },
  {
   "cell_type": "markdown",
   "metadata": {},
   "source": [
    "Environments contain **_brains_** which are responsible for deciding the actions of their associated agents. Here we check for the first brain available, and set it as the default brain we will be controlling from Python."
   ]
  },
  {
   "cell_type": "code",
   "execution_count": 2,
   "metadata": {},
   "outputs": [],
   "source": [
    "# get the default brain\n",
    "brain_name = env.brain_names[0]\n",
    "brain = env.brains[brain_name]"
   ]
  },
  {
   "cell_type": "markdown",
   "metadata": {},
   "source": [
    "### 2. Examine the State and Action Spaces\n",
    "\n",
    "Run the code cell below to print some information about the environment."
   ]
  },
  {
   "cell_type": "code",
   "execution_count": 3,
   "metadata": {},
   "outputs": [
    {
     "name": "stdout",
     "output_type": "stream",
     "text": [
      "Number of agents: 2\n",
      "Size of each action: 2\n",
      "There are 2 agents. Each observes a state with length: 24\n",
      "The state for the first agent looks like: [ 0.          0.          0.          0.          0.          0.\n",
      "  0.          0.          0.          0.          0.          0.\n",
      "  0.          0.          0.          0.         -6.65278625 -1.5\n",
      " -0.          0.          6.83172083  6.         -0.          0.        ]\n"
     ]
    }
   ],
   "source": [
    "# reset the environment\n",
    "env_info = env.reset(train_mode=True)[brain_name]\n",
    "\n",
    "# number of agents \n",
    "num_agents = len(env_info.agents)\n",
    "print('Number of agents:', num_agents)\n",
    "\n",
    "# size of each action\n",
    "action_size = brain.vector_action_space_size\n",
    "print('Size of each action:', action_size)\n",
    "\n",
    "# examine the state space \n",
    "states = env_info.vector_observations\n",
    "state_size = states.shape[1]\n",
    "print('There are {} agents. Each observes a state with length: {}'.format(states.shape[0], state_size))\n",
    "print('The state for the first agent looks like:', states[0])"
   ]
  },
  {
   "cell_type": "markdown",
   "metadata": {},
   "source": [
    "### 3. Take Random Actions in the Environment\n",
    "\n",
    "In the next code cell, you will learn how to use the Python API to control the agent and receive feedback from the environment.\n",
    "\n",
    "Note that **in this coding environment, you will not be able to watch the agents while they are training**, and you should set `train_mode=True` to restart the environment."
   ]
  },
  {
   "cell_type": "code",
   "execution_count": 6,
   "metadata": {},
   "outputs": [
    {
     "name": "stdout",
     "output_type": "stream",
     "text": [
      "Total score (averaged over agents) this episode: -0.004999999888241291\n",
      "Total score (averaged over agents) this episode: -0.004999999888241291\n",
      "Total score (averaged over agents) this episode: -0.004999999888241291\n",
      "Total score (averaged over agents) this episode: -0.004999999888241291\n",
      "Total score (averaged over agents) this episode: -0.004999999888241291\n"
     ]
    }
   ],
   "source": [
    "for i in range(5):                                         # play game for 5 episodes\n",
    "    env_info = env.reset(train_mode=False)[brain_name]     # reset the environment    \n",
    "    states = env_info.vector_observations                  # get the current state (for each agent)\n",
    "    scores = np.zeros(num_agents)                          # initialize the score (for each agent)\n",
    "    while True:\n",
    "        actions = np.random.randn(num_agents, action_size) # select an action (for each agent)\n",
    "        actions = np.clip(actions, -1, 1)                  # all actions between -1 and 1\n",
    "        env_info = env.step(actions)[brain_name]           # send all actions to tne environment\n",
    "        next_states = env_info.vector_observations         # get next state (for each agent)\n",
    "        rewards = env_info.rewards                         # get reward (for each agent)\n",
    "        dones = env_info.local_done                        # see if episode finished\n",
    "        scores += env_info.rewards                         # update the score (for each agent)\n",
    "        states = next_states                               # roll over states to next time step\n",
    "        if np.any(dones):                                  # exit loop if episode finished\n",
    "            break\n",
    "    print('Total score (averaged over agents) this episode: {}'.format(np.mean(scores)))"
   ]
  },
  {
   "cell_type": "markdown",
   "metadata": {},
   "source": [
    "When finished, you can close the environment."
   ]
  },
  {
   "cell_type": "code",
   "execution_count": null,
   "metadata": {},
   "outputs": [],
   "source": [
    "env.close()"
   ]
  },
  {
   "cell_type": "code",
   "execution_count": 4,
   "metadata": {},
   "outputs": [
    {
     "name": "stdout",
     "output_type": "stream",
     "text": [
      "cpu\n"
     ]
    }
   ],
   "source": [
    "import torch\n",
    "from torch import nn\n",
    "from torch.nn import functional as F\n",
    "from torch import optim\n",
    "\n",
    "device = torch.device(\"cuda:0\" if torch.cuda.is_available() else \"cpu\")\n",
    "print(device)"
   ]
  },
  {
   "cell_type": "code",
   "execution_count": 5,
   "metadata": {},
   "outputs": [],
   "source": [
    "def hidden_init(layer):\n",
    "    fan_in = layer.weight.data.size()[0]\n",
    "    lim = 1. / np.sqrt(fan_in)\n",
    "    return (-lim, lim)\n",
    "\n",
    "# Define Actor for DDPG\n",
    "class Actor(nn.Module):\n",
    "    def __init__(self, state_size, action_size, num_agent, seed):\n",
    "        super(Actor, self).__init__()\n",
    "        self.seed = torch.manual_seed(seed)        \n",
    "        self.fc1 = nn.Linear(state_size, 256)\n",
    "        self.bn1 = nn.BatchNorm1d(256)\n",
    "        self.fc2 = nn.Linear(256, 128)\n",
    "        self.fc3 = nn.Linear(128, action_size)\n",
    "        self.reset_parameters()\n",
    "        \n",
    "    def reset_parameters(self):\n",
    "        self.fc1.weight.data.uniform_(*hidden_init(self.fc1))\n",
    "        self.fc2.weight.data.uniform_(*hidden_init(self.fc2))\n",
    "        self.fc3.weight.data.uniform_(-3e-3, 3e-3)\n",
    "        \n",
    "    def forward(self, state):\n",
    "        x = F.relu(self.bn1(self.fc1(state)))\n",
    "        x = F.relu(self.fc2(x))\n",
    "        x = F.tanh(self.fc3(x))\n",
    "        return x\n",
    "    \n",
    "# Define Critic for DDPG\n",
    "class Critic(nn.Module):\n",
    "    def __init__(self, state_size, action_size, num_agent, seed):\n",
    "        super(Critic, self).__init__()\n",
    "        self.seed = torch.manual_seed(seed)        \n",
    "        self.fc1 = nn.Linear(state_size, 256)\n",
    "        self.bn1 = nn.BatchNorm1d(256)\n",
    "        self.fc2 = nn.Linear(256+action_size, 128)\n",
    "        self.fc3 = nn.Linear(128, 1)\n",
    "        self.reset_parameters()\n",
    "    \n",
    "    def reset_parameters(self):\n",
    "        self.fc1.weight.data.uniform_(*hidden_init(self.fc1))\n",
    "        self.fc2.weight.data.uniform_(*hidden_init(self.fc2))\n",
    "        self.fc3.weight.data.uniform_(-3e-3, 3e-3)\n",
    "        \n",
    "    def forward(self, state, action):\n",
    "        xs = F.relu(self.bn1(self.fc1(state)))\n",
    "        x = torch.cat((xs, action), dim=1)        \n",
    "        x = F.relu(self.fc2(x))\n",
    "        x = self.fc3(x)\n",
    "        return x    "
   ]
  },
  {
   "cell_type": "code",
   "execution_count": 6,
   "metadata": {},
   "outputs": [],
   "source": [
    "class OUNoise:\n",
    "    \"\"\"Ornstein-Uhlenbeck process.\"\"\"\n",
    "\n",
    "    def __init__(self, size, seed, mu=0., theta=0.15, sigma=0.5):\n",
    "        \"\"\"Initialize parameters and noise process.\"\"\"\n",
    "        self.mu = mu * np.ones(size)\n",
    "        self.theta = theta\n",
    "        self.sigma = sigma\n",
    "        self.seed = random.seed(seed)\n",
    "        self.reset()\n",
    "\n",
    "    def reset(self):\n",
    "        \"\"\"Reset the internal state (= noise) to mean (mu).\"\"\"\n",
    "        self.state = copy.copy(self.mu)\n",
    "\n",
    "    def sample(self):\n",
    "        \"\"\"Update internal state and return it as a noise sample.\"\"\"\n",
    "        x = self.state\n",
    "        dx = self.theta * (self.mu - x) + self.sigma * np.array([random.random() for i in range(len(x))])\n",
    "        self.state = x + dx\n",
    "        return self.state"
   ]
  },
  {
   "cell_type": "code",
   "execution_count": 7,
   "metadata": {},
   "outputs": [],
   "source": [
    "class ReplayBuffer:\n",
    "    \"\"\"Fixed-size buffer to store experience tuples.\"\"\"\n",
    "\n",
    "    def __init__(self, buffer_size, batch_size, seed):\n",
    "        \"\"\"Initialize a ReplayBuffer object.\n",
    "        Params\n",
    "        ======\n",
    "            buffer_size (int): maximum size of buffer\n",
    "            batch_size (int): size of each training batch\n",
    "        \"\"\"\n",
    "        self.memory = deque(maxlen=buffer_size)  # internal memory (deque)\n",
    "        self.batch_size = batch_size\n",
    "        self.experience = namedtuple(\n",
    "            \"Experience\", \n",
    "            field_names=[\"state\", \"action\", \"reward\", \"next_state\", \"done\"]\n",
    "        )\n",
    "        self.seed = random.seed(seed)\n",
    "    \n",
    "    def add(self, state, action, reward, next_state, done):\n",
    "        \"\"\"Add a new experience to memory.\"\"\"\n",
    "        e = self.experience(state, action, reward, next_state, done)\n",
    "        self.memory.append(e)\n",
    "    \n",
    "    def sample(self):\n",
    "        \"\"\"Randomly sample a batch of experiences from memory.\"\"\"\n",
    "        experiences = random.sample(self.memory, k=self.batch_size)\n",
    "\n",
    "        states = torch.from_numpy(np.vstack([e.state for e in experiences if e is not None])).float().to(device)\n",
    "        actions = torch.from_numpy(np.vstack([e.action for e in experiences if e is not None])).float().to(device)\n",
    "        rewards = torch.from_numpy(np.vstack([e.reward for e in experiences if e is not None])).float().to(device)\n",
    "        next_states = torch.from_numpy(np.vstack([e.next_state for e in experiences if e is not None])).float().to(device)\n",
    "        dones = torch.from_numpy(np.vstack([e.done for e in experiences if e is not None]).astype(np.uint8)).float().to(device)\n",
    "\n",
    "        return (states, actions, rewards, next_states, dones)\n",
    "\n",
    "    def __len__(self):\n",
    "        \"\"\"Return the current size of internal memory.\"\"\"\n",
    "        return len(self.memory)"
   ]
  },
  {
   "cell_type": "code",
   "execution_count": 8,
   "metadata": {},
   "outputs": [],
   "source": [
    "import numpy as np\n",
    "import random\n",
    "import copy\n",
    "from collections import namedtuple, deque\n",
    "EPS_START = 1.5\n",
    "EPS_DECAY = 0.0001\n",
    "EPS_FINAL = 0.1\n",
    "\n",
    "class DDPGAgent:\n",
    "    def __init__(\n",
    "        self,\n",
    "        agent_idx, state_size, action_size,\n",
    "        num_agent,\n",
    "        gamma, tau, batch_size, random_seed,\n",
    "        eps_start=EPS_START,\n",
    "        eps_decay=EPS_DECAY,\n",
    "        eps_final=EPS_FINAL,\n",
    "    ):\n",
    "        self.agent_idx = agent_idx\n",
    "        self.state_size = state_size\n",
    "        self.action_size = action_size\n",
    "        self.gamma = gamma\n",
    "        self.tau = tau\n",
    "        self.batch_size = batch_size\n",
    "        self.seed = random.seed(random_seed)\n",
    "        \n",
    "        self.eps = eps_start\n",
    "        self.eps_decay = eps_decay\n",
    "        self.eps_final = eps_final\n",
    "\n",
    "        # actor network\n",
    "        self.actor = Actor(state_size, action_size, num_agent, random_seed).to(device)\n",
    "        self.actor_target = Actor(state_size, action_size, num_agent, random_seed).to(device)\n",
    "                           \n",
    "        # critic network\n",
    "        self.critic = Critic(state_size, action_size, num_agent, random_seed).to(device)\n",
    "        self.critic_target = Critic(state_size, action_size, num_agent, random_seed).to(device)\n",
    "        \n",
    "        # hard copy\n",
    "        self.soft_update(self.critic, self.critic_target, 1.)\n",
    "        self.soft_update(self.actor, self.actor_target, 1.)                     \n",
    "\n",
    "        # optimizer\n",
    "        self.actor_optimizer = optim.Adam(self.actor.parameters(), lr=LR_ACTOR)\n",
    "        self.critic_optimizer = optim.Adam(self.critic.parameters(), lr=LR_CRITIC, weight_decay=WEIGHT_DECAY_CRITIC)\n",
    "        \n",
    "        # Noise process\n",
    "        self.noise = OUNoise(action_size, random_seed)\n",
    "\n",
    "        # Replay memory\n",
    "        self.memory = ReplayBuffer(BUFFER_SIZE, self.batch_size, random_seed)\n",
    "        \n",
    "        # counter\n",
    "        self.step_counter = 0\n",
    "        \n",
    "    def noise_reset(self):\n",
    "        self.noise.reset()\n",
    "        \n",
    "    def act(self, state, add_noise=True):\n",
    "        state = torch.from_numpy(state).float().to(device)\n",
    "        \n",
    "        self.actor.eval()\n",
    "        with torch.no_grad():\n",
    "            action = self.actor(state).cpu().data.numpy()\n",
    "        self.actor.train()\n",
    "        \n",
    "        if add_noise:\n",
    "            action += self.eps * self.noise.sample()\n",
    "            action = np.clip(action, -1, 1)\n",
    "        return action\n",
    "    \n",
    "    def store(self, state, action, reward, next_state, done):\n",
    "        self.memory.add(state, action, reward, next_state, done)\n",
    "        \n",
    "    def sample(self):\n",
    "        if len(self.memory) > self.batch_size:\n",
    "            experiences = self.memory.sample()\n",
    "            return experiences \n",
    "        return ()\n",
    "    \n",
    "    def learn(self, experiences):\n",
    "        states, actions, rewards, next_states, dones = experiences\n",
    "\n",
    "        # ---------------------------- update critic ---------------------------- #\n",
    "        # Get predicted next-state actions and Q values from target models\n",
    "        action_next = self.actor_target(next_states)\n",
    "\n",
    "        Q_targets_next = self.critic_target(next_states, action_next)\n",
    "        # Compute Q targets for current states (y_i)\n",
    "        Q_targets = rewards + (self.gamma * Q_targets_next * (1 - dones))\n",
    "\n",
    "        Q_expected = self.critic(states, actions)\n",
    "        critic_loss = F.mse_loss(Q_expected, Q_targets)\n",
    "\n",
    "        # Minimize the loss\n",
    "        self.critic_optimizer.zero_grad()\n",
    "        critic_loss.backward()\n",
    "        self.critic_optimizer.step()\n",
    "\n",
    "        # ---------------------------- update actor ---------------------------- #\n",
    "        # Compute actor loss\n",
    "        actions_pred = self.actor(states)\n",
    "        actor_loss = -self.critic(states, actions_pred).mean()\n",
    "        \n",
    "        # Minimize the loss\n",
    "        self.actor_optimizer.zero_grad()\n",
    "        actor_loss.backward()\n",
    "        self.actor_optimizer.step()\n",
    "\n",
    "        # ----------------------- update target networks ----------------------- #\n",
    "        self.soft_update(self.critic, self.critic_target, self.tau)\n",
    "        self.soft_update(self.actor, self.actor_target, self.tau)   \n",
    "        \n",
    "        # update noise decay parameter\n",
    "        self.eps -= self.eps_decay\n",
    "        self.eps = max(self.eps, self.eps_final)\n",
    "\n",
    "    def soft_update(self, local_model, target_model, tau):\n",
    "        \"\"\"Soft update model parameters.\n",
    "        θ_target = τ*θ_local + (1 - τ)*θ_target\n",
    "\n",
    "        Params\n",
    "        ======\n",
    "            local_model: PyTorch model (weights will be copied from)\n",
    "            target_model: PyTorch model (weights will be copied to)\n",
    "            tau (float): interpolation parameter \n",
    "        \"\"\"\n",
    "        for target_param, local_param in zip(target_model.parameters(), local_model.parameters()):\n",
    "            target_param.data.copy_(tau*local_param.data + (1.0-tau)*target_param.data)\n",
    "        "
   ]
  },
  {
   "cell_type": "code",
   "execution_count": 9,
   "metadata": {},
   "outputs": [],
   "source": [
    "BUFFER_SIZE = int(1e6) # replay buffer size\n",
    "BATCH_SIZE = 256 # minibatch size\n",
    "GAMMA = 1 # discount factor\n",
    "TAU = 1e-3 # for soft update of target parameters\n",
    "NUM_EPISODES = 5000\n",
    "LR_ACTOR = 1e-3\n",
    "LR_CRITIC = 1e-3\n",
    "WEIGHT_DECAY_CRITIC = 0\n",
    "UPDATE_EVERY = 2\n",
    "UPDATE_TIMES = 1\n",
    "SEED = 1"
   ]
  },
  {
   "cell_type": "code",
   "execution_count": 11,
   "metadata": {},
   "outputs": [],
   "source": [
    "def MADDPG(\n",
    "    env, brain_name, \n",
    "    num_agent, state_size, action_size, \n",
    "    seed,\n",
    "    gamma,\n",
    "    tau,\n",
    "    num_episodes, \n",
    "    batch_size,\n",
    "):\n",
    "\n",
    "    scores = []    \n",
    "    scores_deque = deque(maxlen=100)\n",
    "    agents = [\n",
    "        DDPGAgent(0, state_size, action_size, num_agent, gamma, tau, batch_size, seed),\n",
    "        DDPGAgent(1, state_size, action_size, num_agent, gamma, tau, batch_size, seed),\n",
    "    ]\n",
    "\n",
    "    step_counter = 0\n",
    "    for i_episode in range(1, num_episodes+1):\n",
    "        score = np.zeros(num_agent)\n",
    "        env_info = env.reset(train_mode=True)[brain_name]\n",
    "        states = env_info.vector_observations\n",
    "\n",
    "        agents[0].noise_reset()\n",
    "        agents[1].noise_reset()        \n",
    "        \n",
    "        while True:\n",
    "            actions = []\n",
    "\n",
    "            for idx in range(num_agent):\n",
    "                state = np.expand_dims(states[idx], axis=0)\n",
    "                actions += [agents[idx].act(state).squeeze()]\n",
    "            \n",
    "            actions = np.array(actions)\n",
    "                \n",
    "            # get next_state, reward, done\n",
    "            env_info = env.step(actions)[brain_name]\n",
    "            rewards = env_info.rewards  \n",
    "            next_states = env_info.vector_observations\n",
    "            dones = env_info.local_done\n",
    "            \n",
    "            # store transition            \n",
    "            for idx in range(num_agent):\n",
    "                agents[0].store(states[idx], actions[idx], rewards[idx], next_states[idx], dones[idx])\n",
    "                agents[1].store(states[idx], actions[idx], rewards[idx], next_states[idx], dones[idx])\n",
    "            \n",
    "            step_counter = (step_counter + 1) % UPDATE_EVERY\n",
    "            if step_counter == 0:\n",
    "                for idx in range(num_agent):\n",
    "                    samples = agents[idx].sample()\n",
    "                    if len(samples) > 0:\n",
    "                        agents[idx].learn(samples)\n",
    "\n",
    "            states = next_states            \n",
    "            score += rewards\n",
    "            if np.any(dones):\n",
    "                break\n",
    "\n",
    "        ep_max_score = np.max(score)\n",
    "        scores.append(ep_max_score)\n",
    "        scores_deque.append(ep_max_score)\n",
    "        \n",
    "        print('\\rEpisode {}\\tAverage Score: {:.4f}'.format(i_episode, np.mean(scores_deque)), end=\"\")\n",
    "        \n",
    "        if i_episode % 100 == 0:\n",
    "            print('\\rEpisode {}\\tAverage Score: {:.4f}'.format(i_episode, np.mean(scores_deque)))\n",
    "            \n",
    "        if np.mean(scores_deque) >= 0.5:\n",
    "            print('\\nEnvironment solved in {:d} episodes!\\tAverage Score: {:.2f}'.format(i_episode, np.mean(scores_deque)))\n",
    "            for idx in range(num_agent):\n",
    "                torch.save(agents[idx].actor.state_dict(), 'checkpoint_actor_{}.pth'.format(idx))\n",
    "                torch.save(agents[idx].critic.state_dict(), 'checkpoint_critic_{}.pth'.format(idx))\n",
    "            break            \n",
    "        \n",
    "    return scores, agents"
   ]
  },
  {
   "cell_type": "code",
   "execution_count": 12,
   "metadata": {},
   "outputs": [
    {
     "name": "stdout",
     "output_type": "stream",
     "text": [
      "Episode 100\tAverage Score: 0.0047\n",
      "Episode 200\tAverage Score: 0.0133\n",
      "Episode 300\tAverage Score: 0.0170\n",
      "Episode 400\tAverage Score: 0.0220\n",
      "Episode 500\tAverage Score: 0.0257\n",
      "Episode 600\tAverage Score: 0.0403\n",
      "Episode 700\tAverage Score: 0.0140\n",
      "Episode 800\tAverage Score: 0.0018\n",
      "Episode 900\tAverage Score: 0.0000\n",
      "Episode 1000\tAverage Score: 0.0010\n",
      "Episode 1100\tAverage Score: 0.0080\n",
      "Episode 1200\tAverage Score: 0.0040\n",
      "Episode 1300\tAverage Score: 0.0170\n",
      "Episode 1400\tAverage Score: 0.0457\n",
      "Episode 1500\tAverage Score: 0.0786\n",
      "Episode 1600\tAverage Score: 0.1181\n",
      "Episode 1700\tAverage Score: 0.1629\n",
      "Episode 1800\tAverage Score: 0.1264\n",
      "Episode 1900\tAverage Score: 0.1087\n",
      "Episode 2000\tAverage Score: 0.1214\n",
      "Episode 2100\tAverage Score: 0.3098\n",
      "Episode 2154\tAverage Score: 0.5053\n",
      "Environment solved in 2154 episodes!\tAverage Score: 0.51\n"
     ]
    }
   ],
   "source": [
    "scores, agents = MADDPG(\n",
    "    env, brain_name, \n",
    "    num_agents, state_size, action_size, \n",
    "    SEED,\n",
    "    GAMMA,\n",
    "    TAU,\n",
    "    NUM_EPISODES, \n",
    "    BATCH_SIZE,\n",
    ")"
   ]
  },
  {
   "cell_type": "code",
   "execution_count": 14,
   "metadata": {},
   "outputs": [
    {
     "data": {
      "image/png": "[encoded data removed]",
      "text/plain": [
       "<matplotlib.figure.Figure at 0x7fc1d82a02e8>"
      ]
     },
     "metadata": {
      "needs_background": "light"
     },
     "output_type": "display_data"
    }
   ],
   "source": [
    "import matplotlib.pyplot as plt\n",
    "plt.rcParams[\"figure.figsize\"] = (20,10)\n",
    "fig = plt.figure()\n",
    "plt.plot(np.arange(1, len(scores)+1), scores)\n",
    "plt.ylabel('Score')\n",
    "plt.xlabel('Episode #')\n",
    "plt.axhline(0.5, color='red')\n",
    "plt.ylim([0, 2.7])\n",
    "plt.show()"
   ]
  },
  {
   "cell_type": "code",
   "execution_count": 10,
   "metadata": {},
   "outputs": [],
   "source": [
    "def run_trained_model(env, brain_name, state_size, action_size, num_agent):\n",
    "    agents = [\n",
    "        DDPGAgent(0, state_size, action_size, 2, GAMMA, TAU, BATCH_SIZE, 1),\n",
    "        DDPGAgent(1, state_size, action_size, 2, GAMMA, TAU, BATCH_SIZE, 1),\n",
    "    ]\n",
    "    \n",
    "    agents[0].actor.load_state_dict(torch.load('checkpoint_actor_0.pth', map_location={'cuda:0': 'cpu'}))\n",
    "    agents[1].actor.load_state_dict(torch.load('checkpoint_actor_1.pth', map_location={'cuda:0': 'cpu'}))\n",
    "    \n",
    "    env_info = env.reset(train_mode=False)[brain_name]\n",
    "    states = env_info.vector_observations\n",
    "    scores = np.zeros(num_agents)\n",
    "\n",
    "    while True:\n",
    "        actions = []\n",
    "        for idx in range(num_agent):\n",
    "            state = np.expand_dims(states[idx], axis=0)\n",
    "            actions += [agents[idx].act(state, add_noise=False).squeeze()]            \n",
    "        actions = np.array(actions)\n",
    "                                \n",
    "        env_info = env.step(actions)[brain_name]           # send all actions to tne environment\n",
    "        next_states = env_info.vector_observations         # get next state (for each agent)\n",
    "        rewards = env_info.rewards                         # get reward (for each agent)\n",
    "        dones = env_info.local_done                        # see if episode finished\n",
    "        scores += env_info.rewards                         # update the score (for each agent)\n",
    "        states = next_states                               # roll over states to next time step\n",
    "        if np.any(dones):                                  # exit loop if episode finished\n",
    "            break\n",
    "    print('Total score (averaged over agents) this episode: {}'.format(np.mean(scores)))"
   ]
  },
  {
   "cell_type": "code",
   "execution_count": 13,
   "metadata": {},
   "outputs": [
    {
     "name": "stdout",
     "output_type": "stream",
     "text": [
      "Total score (averaged over agents) this episode: 2.650000039488077\n"
     ]
    }
   ],
   "source": [
    "run_trained_model(env, brain_name, state_size, action_size, 2)"
   ]
  },
  {
   "cell_type": "code",
   "execution_count": null,
   "metadata": {},
   "outputs": [],
   "source": []
  }
 ],
 "metadata": {
  "kernelspec": {
   "display_name": "Python 3",
   "language": "python",
   "name": "python3"
  },
  "language_info": {
   "codemirror_mode": {
    "name": "ipython",
    "version": 3
   },
   "file_extension": ".py",
   "mimetype": "text/x-python",
   "name": "python",
   "nbconvert_exporter": "python",
   "pygments_lexer": "ipython3",
   "version": "3.6.10"
  }
 },
 "nbformat": 4,
 "nbformat_minor": 2
}
